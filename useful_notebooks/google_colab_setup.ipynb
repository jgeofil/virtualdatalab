{
  "nbformat": 4,
  "nbformat_minor": 0,
  "metadata": {
    "colab": {
      "name": "google_colab_setup.ipynb",
      "provenance": []
    },
    "kernelspec": {
      "display_name": "Python 3",
      "language": "python",
      "name": "python3"
    },
    "language_info": {
      "codemirror_mode": {
        "name": "ipython",
        "version": 3
      },
      "file_extension": ".py",
      "mimetype": "text/x-python",
      "name": "python",
      "nbconvert_exporter": "python",
      "pygments_lexer": "ipython3",
      "version": "3.7.6"
    }
  },
  "cells": [
    {
      "cell_type": "markdown",
      "metadata": {
        "colab_type": "text",
        "id": "yY9Cgr7yiVZP"
      },
      "source": [
        "### Enabling and testing the GPU OPTIONAL\n",
        "\n",
        "First, you'll need to enable GPUs for the notebook:\n",
        "\n",
        "- Navigate to Edit→Notebook Settings\n",
        "- select GPU from the Hardware Accelerator drop-down"
      ]
    },
    {
      "cell_type": "code",
      "metadata": {
        "colab_type": "code",
        "id": "WfQ7IB50ij6r",
        "colab": {}
      },
      "source": [
        "# Testing if GPU is enabled\n",
        "\n",
        "# # pytorch\n",
        "\n",
        "# import torch\n",
        "# print(\"Is GPU enabled {}\".format(torch.cuda.is_available()))\n",
        "# print(\"GPU ID {}\".format(torch.cuda.current_device()))\n",
        "# print(\"GPU Used {}\".format(torch.cuda.get_device_name(torch.cuda.current_device())))\n",
        "\n",
        "# # tensorflow\n",
        "\n",
        "# %tensorflow_version 2.x\n",
        "# import tensorflow as tf\n",
        "# device_name = tf.test.gpu_device_name()\n",
        "# if device_name != '/device:GPU:0':\n",
        "#   raise SystemError('GPU device not found')\n",
        "# print('Found GPU at: {}'.format(device_name))"
      ],
      "execution_count": 3,
      "outputs": []
    },
    {
      "cell_type": "markdown",
      "metadata": {
        "colab_type": "text",
        "id": "CfIfhZWfjakk"
      },
      "source": [
        "### Installing VDL"
      ]
    },
    {
<<<<<<< HEAD
     "name": "stdout",
     "output_type": "stream",
     "text": [
      "/content/gdrive/My Drive/virtual-data-lab/virtualdatalab\n",
      "Processing /content/gdrive/My Drive/virtual-data-lab/virtualdatalab\n",
      "Building wheels for collected packages: virtualdatalab\n",
      "  Building wheel for virtualdatalab (setup.py) ... \u001b[?25l\u001b[?25hdone\n",
      "  Created wheel for virtualdatalab: filename=virtualdatalab-0.1-cp36-none-any.whl size=6704 sha256=ae2adeac7d717466b5d313ef3cb989c89b4604b0135b628d05640482c8e62988\n",
      "  Stored in directory: /tmp/pip-ephem-wheel-cache-zfy1etxv/wheels/fe/c2/12/7308834dedc81bae527c39f0b40da6f15a7c0603e9b9276924\n",
      "Successfully built virtualdatalab\n",
      "Installing collected packages: virtualdatalab\n",
      "Successfully installed virtualdatalab-0.1\n"
     ]
    }
   ],
   "source": [
    "%cd virtual-data-lab/virtualdatalab/do\n",
    "!pip install ."
   ]
  },
  {
   "cell_type": "markdown",
   "metadata": {
    "colab_type": "text",
    "id": "0y9LJ1iKlta6"
   },
   "source": []
  },
  {
   "cell_type": "markdown",
   "metadata": {
    "colab_type": "text",
    "id": "w-g1cl2CluxR"
   },
   "source": [
    "### Updating `virtual-data-lab` "
   ]
  },
  {
   "cell_type": "code",
   "execution_count": 12,
   "metadata": {
    "colab": {
     "base_uri": "https://localhost:8080/",
     "height": 34
=======
      "cell_type": "code",
      "metadata": {
        "colab_type": "code",
        "id": "RErgabgQyI3R",
        "colab": {}
      },
      "source": [
        "# Mount Google Drive \n",
        "\n",
        "from google.colab import drive\n",
        "# gdrive is google drive contents\n",
        "drive.mount(\"/content/gdrive\")\n",
        "%cd gdrive/My\\ Drive\n",
        "\n",
        "import os\n",
        "\n",
        "if os.path.isdir(\"vdl/virtual-data-lab/virtualdatalab\"):\n",
        "  # repo already existing\n",
        "  %cd vdl/virtual-data-lab\n",
        "  ! git pull \n",
        "  %cd virtualdatalab\n",
        "  !pip install -r requirements.txt\n",
        "  !pip install .\n",
        "else:\n",
        "  %mkdir vdl\n",
        "  %cd vdl\n",
        "  ! git clone https://github.com/mostly-ai/virtual-data-lab.git\n",
        "  %cd virtual-data-lab/virtualdatalab\n",
        "  !pip install -r requirements.txt\n",
        "  !pip install ."
      ],
      "execution_count": null,
      "outputs": []
>>>>>>> f34259d8a208de4c3ea9177fe8d0f6687c6c4177
    },
    {
      "cell_type": "markdown",
      "metadata": {
        "colab_type": "text",
        "id": "xWHUxgHajuJQ"
      },
      "source": [
        "# Workspace"
      ]
    },
    {
      "cell_type": "markdown",
      "metadata": {
        "colab_type": "text",
        "id": "MdG6KYw7j9sE"
      },
      "source": [
        "#### Imports"
      ]
    },
    {
      "cell_type": "code",
      "metadata": {
        "colab_type": "code",
        "id": "aR-Nab4LkGbz",
        "colab": {}
      },
      "source": [
        "import pandas as pd\n",
        "import numpy as np\n",
        "from virtualdatalab.datasets import loader\n",
        "\n",
        "# import torch\n",
        "# import tensorflow as tf"
      ],
      "execution_count": 25,
      "outputs": []
    },
    {
      "cell_type": "markdown",
      "metadata": {
        "colab_type": "text",
        "id": "V_hdiO46koEc"
      },
      "source": [
        "#### Analysis"
      ]
    },
    {
      "cell_type": "code",
      "metadata": {
        "colab_type": "code",
        "id": "z6vDs2mXkGvr",
        "colab": {}
      },
      "source": [
        "data = loader.load_cdnow()"
      ],
      "execution_count": 26,
      "outputs": []
    },
    {
      "cell_type": "code",
      "metadata": {
        "id": "MYzhiLK3mcbH",
        "colab_type": "code",
        "colab": {
          "base_uri": "https://localhost:8080/",
          "height": 206
        },
        "outputId": "6bb0ced6-13cc-4663-d99a-11e9ff53e7bf"
      },
      "source": [
        "data.head()"
      ],
      "execution_count": 28,
      "outputs": [
        {
          "output_type": "execute_result",
          "data": {
            "text/html": [
              "<div>\n",
              "<style scoped>\n",
              "    .dataframe tbody tr th:only-of-type {\n",
              "        vertical-align: middle;\n",
              "    }\n",
              "\n",
              "    .dataframe tbody tr th {\n",
              "        vertical-align: top;\n",
              "    }\n",
              "\n",
              "    .dataframe thead th {\n",
              "        text-align: right;\n",
              "    }\n",
              "</style>\n",
              "<table border=\"1\" class=\"dataframe\">\n",
              "  <thead>\n",
              "    <tr style=\"text-align: right;\">\n",
              "      <th></th>\n",
              "      <th>id</th>\n",
              "      <th>cds</th>\n",
              "      <th>amt</th>\n",
              "      <th>wday</th>\n",
              "    </tr>\n",
              "  </thead>\n",
              "  <tbody>\n",
              "    <tr>\n",
              "      <th>0</th>\n",
              "      <td>3</td>\n",
              "      <td>4</td>\n",
              "      <td>20.96</td>\n",
              "      <td>Tue</td>\n",
              "    </tr>\n",
              "    <tr>\n",
              "      <th>1</th>\n",
              "      <td>3</td>\n",
              "      <td>5</td>\n",
              "      <td>57.45</td>\n",
              "      <td>Sat</td>\n",
              "    </tr>\n",
              "    <tr>\n",
              "      <th>2</th>\n",
              "      <td>3</td>\n",
              "      <td>1</td>\n",
              "      <td>16.99</td>\n",
              "      <td>Thu</td>\n",
              "    </tr>\n",
              "    <tr>\n",
              "      <th>3</th>\n",
              "      <td>3</td>\n",
              "      <td>2</td>\n",
              "      <td>20.76</td>\n",
              "      <td>Sun</td>\n",
              "    </tr>\n",
              "    <tr>\n",
              "      <th>4</th>\n",
              "      <td>3</td>\n",
              "      <td>2</td>\n",
              "      <td>20.76</td>\n",
              "      <td>Thu</td>\n",
              "    </tr>\n",
              "  </tbody>\n",
              "</table>\n",
              "</div>"
            ],
            "text/plain": [
              "   id  cds    amt wday\n",
              "0   3    4  20.96  Tue\n",
              "1   3    5  57.45  Sat\n",
              "2   3    1  16.99  Thu\n",
              "3   3    2  20.76  Sun\n",
              "4   3    2  20.76  Thu"
            ]
          },
          "metadata": {
            "tags": []
          },
          "execution_count": 28
        }
      ]
    },
    {
      "cell_type": "code",
      "metadata": {
        "id": "sDNMoZoHnQvq",
        "colab_type": "code",
        "colab": {}
      },
      "source": [
        ""
      ],
      "execution_count": null,
      "outputs": []
    }
  ]
}