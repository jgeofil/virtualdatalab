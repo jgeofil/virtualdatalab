{
 "cells": [
  {
   "cell_type": "code",
   "execution_count": 1,
   "metadata": {},
   "outputs": [
    {
     "data": {
      "text/plain": [
       "'\\nIf running on Google Colab\\n'"
      ]
     },
     "execution_count": 1,
     "metadata": {},
     "output_type": "execute_result"
    }
   ],
   "source": [
    "\"\"\"\n",
    "If running on Google Colab\n",
    "\"\"\"\n",
    "\n",
    "# # Mount Google Drive \n",
    "\n",
    "# from google.colab import drive\n",
    "# # gdrive is google drive contents\n",
    "# drive.mount(\"/content/gdrive\")\n",
    "# %cd gdrive/My\\ Drive\n",
    "\n",
    "# import os\n",
    "\n",
    "# if os.path.isdir(\"vdl/virtualdatalab/virtualdatalab\"):\n",
    "#   # repo already existing\n",
    "#   %cd vdl/virtualdatalab\n",
    "#   ! git pull \n",
    "#   %cd virtualdatalab\n",
    "#   !pip install -r requirements.txt\n",
    "#   !pip install .\n",
    "# else:\n",
    "#   %mkdir vdl\n",
    "#   %cd vdl\n",
    "#   ! git clone https://github.com/mostly-ai/virtualdatalab.git\n",
    "#   %cd virtualdatalab/virtualdatalab\n",
    "#   !pip install -r requirements.txt\n",
    "#   !pip install ."
   ]
  },
  {
   "cell_type": "markdown",
   "metadata": {},
   "source": [
    "Simplest showcase of Identiysynthesizer + Dummy Data Generator "
   ]
  },
  {
   "cell_type": "code",
   "execution_count": 2,
   "metadata": {},
   "outputs": [],
   "source": [
    "from virtualdatalab.target_data_generate import generate_simple_seq_dummy\n",
    "from virtualdatalab.synthesizers.identity import IdentitySynthesizer\n",
    "from virtualdatalab.benchmark import compare"
   ]
  },
  {
   "cell_type": "markdown",
   "metadata": {},
   "source": [
    "## Generate Fake Data"
   ]
  },
  {
   "cell_type": "code",
   "execution_count": 3,
   "metadata": {},
   "outputs": [],
   "source": [
    "\"\"\"\n",
    "1000 subjects\n",
    "sequences length between 2 and 6\n",
    "5 categorical columns\n",
    "5 sequential columns\n",
    "\n",
    "\"\"\"\n",
    "dummy_train_data = generate_simple_seq_dummy(1000,[2,6],5,5)"
   ]
  },
  {
   "cell_type": "markdown",
   "metadata": {},
   "source": [
    "## Instantiate Generator"
   ]
  },
  {
   "cell_type": "code",
   "execution_count": 4,
   "metadata": {},
   "outputs": [],
   "source": [
    "i = IdentitySynthesizer()\n",
    "i.train(dummy_train_data)\n",
    "generated_data = i.generate(1000)"
   ]
  },
  {
   "cell_type": "code",
   "execution_count": 5,
   "metadata": {},
   "outputs": [
    {
     "data": {
      "text/html": [
       "<div>\n",
       "<style scoped>\n",
       "    .dataframe tbody tr th:only-of-type {\n",
       "        vertical-align: middle;\n",
       "    }\n",
       "\n",
       "    .dataframe tbody tr th {\n",
       "        vertical-align: top;\n",
       "    }\n",
       "\n",
       "    .dataframe thead th {\n",
       "        text-align: right;\n",
       "    }\n",
       "</style>\n",
       "<table border=\"1\" class=\"dataframe\">\n",
       "  <thead>\n",
       "    <tr style=\"text-align: right;\">\n",
       "      <th></th>\n",
       "      <th></th>\n",
       "      <th>cat_col_0</th>\n",
       "      <th>cat_col_1</th>\n",
       "      <th>cat_col_2</th>\n",
       "      <th>cat_col_3</th>\n",
       "      <th>cat_col_4</th>\n",
       "      <th>num_col_0</th>\n",
       "      <th>num_col_1</th>\n",
       "      <th>num_col_2</th>\n",
       "      <th>num_col_3</th>\n",
       "      <th>num_col_4</th>\n",
       "    </tr>\n",
       "    <tr>\n",
       "      <th>id</th>\n",
       "      <th>sequence_pos</th>\n",
       "      <th></th>\n",
       "      <th></th>\n",
       "      <th></th>\n",
       "      <th></th>\n",
       "      <th></th>\n",
       "      <th></th>\n",
       "      <th></th>\n",
       "      <th></th>\n",
       "      <th></th>\n",
       "      <th></th>\n",
       "    </tr>\n",
       "  </thead>\n",
       "  <tbody>\n",
       "    <tr>\n",
       "      <th rowspan=\"4\" valign=\"top\">0</th>\n",
       "      <th>0</th>\n",
       "      <td>e</td>\n",
       "      <td>x</td>\n",
       "      <td>r</td>\n",
       "      <td>d</td>\n",
       "      <td>c</td>\n",
       "      <td>0.999516</td>\n",
       "      <td>0.917531</td>\n",
       "      <td>0.428381</td>\n",
       "      <td>0.891657</td>\n",
       "      <td>0.205168</td>\n",
       "    </tr>\n",
       "    <tr>\n",
       "      <th>1</th>\n",
       "      <td>j</td>\n",
       "      <td>j</td>\n",
       "      <td>q</td>\n",
       "      <td>q</td>\n",
       "      <td>c</td>\n",
       "      <td>0.880733</td>\n",
       "      <td>0.002050</td>\n",
       "      <td>0.613502</td>\n",
       "      <td>0.215955</td>\n",
       "      <td>0.926261</td>\n",
       "    </tr>\n",
       "    <tr>\n",
       "      <th>2</th>\n",
       "      <td>c</td>\n",
       "      <td>l</td>\n",
       "      <td>c</td>\n",
       "      <td>y</td>\n",
       "      <td>j</td>\n",
       "      <td>0.991182</td>\n",
       "      <td>0.992626</td>\n",
       "      <td>0.671772</td>\n",
       "      <td>0.758782</td>\n",
       "      <td>0.194361</td>\n",
       "    </tr>\n",
       "    <tr>\n",
       "      <th>3</th>\n",
       "      <td>i</td>\n",
       "      <td>o</td>\n",
       "      <td>m</td>\n",
       "      <td>p</td>\n",
       "      <td>z</td>\n",
       "      <td>0.097284</td>\n",
       "      <td>0.963553</td>\n",
       "      <td>0.989155</td>\n",
       "      <td>0.767238</td>\n",
       "      <td>0.336431</td>\n",
       "    </tr>\n",
       "    <tr>\n",
       "      <th>1</th>\n",
       "      <th>0</th>\n",
       "      <td>z</td>\n",
       "      <td>q</td>\n",
       "      <td>n</td>\n",
       "      <td>r</td>\n",
       "      <td>u</td>\n",
       "      <td>0.660273</td>\n",
       "      <td>0.214058</td>\n",
       "      <td>0.931917</td>\n",
       "      <td>0.909448</td>\n",
       "      <td>0.776129</td>\n",
       "    </tr>\n",
       "  </tbody>\n",
       "</table>\n",
       "</div>"
      ],
      "text/plain": [
       "                cat_col_0 cat_col_1 cat_col_2 cat_col_3 cat_col_4  num_col_0  \\\n",
       "id sequence_pos                                                                \n",
       "0  0                    e         x         r         d         c   0.999516   \n",
       "   1                    j         j         q         q         c   0.880733   \n",
       "   2                    c         l         c         y         j   0.991182   \n",
       "   3                    i         o         m         p         z   0.097284   \n",
       "1  0                    z         q         n         r         u   0.660273   \n",
       "\n",
       "                 num_col_1  num_col_2  num_col_3  num_col_4  \n",
       "id sequence_pos                                              \n",
       "0  0              0.917531   0.428381   0.891657   0.205168  \n",
       "   1              0.002050   0.613502   0.215955   0.926261  \n",
       "   2              0.992626   0.671772   0.758782   0.194361  \n",
       "   3              0.963553   0.989155   0.767238   0.336431  \n",
       "1  0              0.214058   0.931917   0.909448   0.776129  "
      ]
     },
     "execution_count": 5,
     "metadata": {},
     "output_type": "execute_result"
    }
   ],
   "source": [
    "generated_data.head()"
   ]
  },
  {
   "cell_type": "markdown",
   "metadata": {},
   "source": [
    "## Analysis "
   ]
  },
  {
   "cell_type": "code",
   "execution_count": 6,
   "metadata": {},
   "outputs": [
    {
     "data": {
      "text/plain": [
       "{'univariate_total_variation_distance': 1.9500000000000002,\n",
       " 'bivariate_total_variation_distance': 0.7999999999999999,\n",
       " 'correlation_difference': 3.4213343396530425,\n",
       " 'distance_to_closest_record': False,\n",
       " 'nearest_neighbor_distance_ratio': False}"
      ]
     },
     "execution_count": 6,
     "metadata": {},
     "output_type": "execute_result"
    }
   ],
   "source": [
    "compare(dummy_train_data,generated_data)"
   ]
  },
  {
   "cell_type": "code",
   "execution_count": null,
   "metadata": {},
   "outputs": [],
   "source": []
  }
 ],
 "metadata": {
  "kernelspec": {
   "display_name": "Python 3",
   "language": "python",
   "name": "python3"
  },
  "language_info": {
   "codemirror_mode": {
    "name": "ipython",
    "version": 3
   },
   "file_extension": ".py",
   "mimetype": "text/x-python",
   "name": "python",
   "nbconvert_exporter": "python",
   "pygments_lexer": "ipython3",
   "version": "3.7.6"
  }
 },
 "nbformat": 4,
 "nbformat_minor": 4
}
