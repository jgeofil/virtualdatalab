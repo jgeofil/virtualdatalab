{
 "cells": [
  {
   "cell_type": "code",
   "execution_count": 1,
   "metadata": {},
   "outputs": [
    {
     "data": {
      "text/plain": [
       "'\\nIf running on Google Colab\\n'"
      ]
     },
     "execution_count": 1,
     "metadata": {},
     "output_type": "execute_result"
    }
   ],
   "source": [
    "\"\"\"\n",
    "If running on Google Colab\n",
    "\"\"\"\n",
    "# %mkdir vdl\n",
    "# %cd vdl\n",
    "# ! git clone https://github.com/mostly-ai/virtualdatalab.git\n",
    "# %cd virtualdatalab/virtualdatalab\n",
    "# !pip install -r requirements.txt\n",
    "# !pip install ."
   ]
  },
  {
   "cell_type": "markdown",
   "metadata": {},
   "source": [
    "Simplest showcase of Identiysynthesizer + Dummy Data Generator "
   ]
  },
  {
   "cell_type": "code",
   "execution_count": 2,
   "metadata": {},
   "outputs": [],
   "source": [
    "from virtualdatalab.target_data_generate import generate_simple_seq_dummy\n",
    "from virtualdatalab.synthesizers.identity import IdentitySynthesizer\n",
    "from virtualdatalab.benchmark import compare"
   ]
  },
  {
   "cell_type": "markdown",
   "metadata": {},
   "source": [
    "## Generate Fake Data"
   ]
  },
  {
   "cell_type": "code",
   "execution_count": 3,
   "metadata": {},
   "outputs": [],
   "source": [
    "\"\"\"\n",
    "1000 subjects\n",
    "sequences length between 2 and 6\n",
    "5 categorical columns\n",
    "5 sequential columns\n",
    "\n",
    "\"\"\"\n",
    "dummy_train_data = generate_simple_seq_dummy(1000,[2,6],5,5)"
   ]
  },
  {
   "cell_type": "markdown",
   "metadata": {},
   "source": [
    "## Instantiate Generator"
   ]
  },
  {
   "cell_type": "code",
   "execution_count": 4,
   "metadata": {},
   "outputs": [],
   "source": [
    "i = IdentitySynthesizer()\n",
    "i.train(dummy_train_data)\n",
    "generated_data = i.generate(1000)"
   ]
  },
  {
   "cell_type": "code",
   "execution_count": 5,
   "metadata": {},
   "outputs": [
    {
     "data": {
      "text/html": [
       "<div>\n",
       "<style scoped>\n",
       "    .dataframe tbody tr th:only-of-type {\n",
       "        vertical-align: middle;\n",
       "    }\n",
       "\n",
       "    .dataframe tbody tr th {\n",
       "        vertical-align: top;\n",
       "    }\n",
       "\n",
       "    .dataframe thead th {\n",
       "        text-align: right;\n",
       "    }\n",
       "</style>\n",
       "<table border=\"1\" class=\"dataframe\">\n",
       "  <thead>\n",
       "    <tr style=\"text-align: right;\">\n",
       "      <th></th>\n",
       "      <th></th>\n",
       "      <th>cat_col_0</th>\n",
       "      <th>cat_col_1</th>\n",
       "      <th>cat_col_2</th>\n",
       "      <th>cat_col_3</th>\n",
       "      <th>cat_col_4</th>\n",
       "      <th>num_col_0</th>\n",
       "      <th>num_col_1</th>\n",
       "      <th>num_col_2</th>\n",
       "      <th>num_col_3</th>\n",
       "      <th>num_col_4</th>\n",
       "    </tr>\n",
       "    <tr>\n",
       "      <th>id</th>\n",
       "      <th>sequence_pos</th>\n",
       "      <th></th>\n",
       "      <th></th>\n",
       "      <th></th>\n",
       "      <th></th>\n",
       "      <th></th>\n",
       "      <th></th>\n",
       "      <th></th>\n",
       "      <th></th>\n",
       "      <th></th>\n",
       "      <th></th>\n",
       "    </tr>\n",
       "  </thead>\n",
       "  <tbody>\n",
       "    <tr>\n",
       "      <th rowspan=\"2\" valign=\"top\">0</th>\n",
       "      <th>0</th>\n",
       "      <td>i</td>\n",
       "      <td>x</td>\n",
       "      <td>i</td>\n",
       "      <td>v</td>\n",
       "      <td>k</td>\n",
       "      <td>0.165570</td>\n",
       "      <td>0.785729</td>\n",
       "      <td>0.969418</td>\n",
       "      <td>0.992460</td>\n",
       "      <td>0.872056</td>\n",
       "    </tr>\n",
       "    <tr>\n",
       "      <th>1</th>\n",
       "      <td>s</td>\n",
       "      <td>j</td>\n",
       "      <td>a</td>\n",
       "      <td>a</td>\n",
       "      <td>e</td>\n",
       "      <td>0.066229</td>\n",
       "      <td>0.670151</td>\n",
       "      <td>0.158582</td>\n",
       "      <td>0.681364</td>\n",
       "      <td>0.893734</td>\n",
       "    </tr>\n",
       "    <tr>\n",
       "      <th rowspan=\"2\" valign=\"top\">1</th>\n",
       "      <th>0</th>\n",
       "      <td>i</td>\n",
       "      <td>x</td>\n",
       "      <td>i</td>\n",
       "      <td>v</td>\n",
       "      <td>k</td>\n",
       "      <td>0.165570</td>\n",
       "      <td>0.785729</td>\n",
       "      <td>0.969418</td>\n",
       "      <td>0.992460</td>\n",
       "      <td>0.872056</td>\n",
       "    </tr>\n",
       "    <tr>\n",
       "      <th>1</th>\n",
       "      <td>s</td>\n",
       "      <td>j</td>\n",
       "      <td>a</td>\n",
       "      <td>a</td>\n",
       "      <td>e</td>\n",
       "      <td>0.066229</td>\n",
       "      <td>0.670151</td>\n",
       "      <td>0.158582</td>\n",
       "      <td>0.681364</td>\n",
       "      <td>0.893734</td>\n",
       "    </tr>\n",
       "    <tr>\n",
       "      <th>2</th>\n",
       "      <th>0</th>\n",
       "      <td>p</td>\n",
       "      <td>k</td>\n",
       "      <td>w</td>\n",
       "      <td>z</td>\n",
       "      <td>v</td>\n",
       "      <td>0.157499</td>\n",
       "      <td>0.038275</td>\n",
       "      <td>0.646795</td>\n",
       "      <td>0.434566</td>\n",
       "      <td>0.347581</td>\n",
       "    </tr>\n",
       "  </tbody>\n",
       "</table>\n",
       "</div>"
      ],
      "text/plain": [
       "                cat_col_0 cat_col_1 cat_col_2 cat_col_3 cat_col_4  num_col_0  \\\n",
       "id sequence_pos                                                                \n",
       "0  0                    i         x         i         v         k   0.165570   \n",
       "   1                    s         j         a         a         e   0.066229   \n",
       "1  0                    i         x         i         v         k   0.165570   \n",
       "   1                    s         j         a         a         e   0.066229   \n",
       "2  0                    p         k         w         z         v   0.157499   \n",
       "\n",
       "                 num_col_1  num_col_2  num_col_3  num_col_4  \n",
       "id sequence_pos                                              \n",
       "0  0              0.785729   0.969418   0.992460   0.872056  \n",
       "   1              0.670151   0.158582   0.681364   0.893734  \n",
       "1  0              0.785729   0.969418   0.992460   0.872056  \n",
       "   1              0.670151   0.158582   0.681364   0.893734  \n",
       "2  0              0.038275   0.646795   0.434566   0.347581  "
      ]
     },
     "execution_count": 5,
     "metadata": {},
     "output_type": "execute_result"
    }
   ],
   "source": [
    "generated_data.head()"
   ]
  },
  {
   "cell_type": "markdown",
   "metadata": {},
   "source": [
    "## Analysis "
   ]
  },
  {
   "cell_type": "code",
   "execution_count": null,
   "metadata": {},
   "outputs": [],
   "source": [
    "compare(dummy_train_data,generated_data)"
   ]
  },
  {
   "cell_type": "code",
   "execution_count": null,
   "metadata": {},
   "outputs": [],
   "source": []
  }
 ],
 "metadata": {
  "kernelspec": {
   "display_name": "Python 3",
   "language": "python",
   "name": "python3"
  },
  "language_info": {
   "codemirror_mode": {
    "name": "ipython",
    "version": 3
   },
   "file_extension": ".py",
   "mimetype": "text/x-python",
   "name": "python",
   "nbconvert_exporter": "python",
   "pygments_lexer": "ipython3",
   "version": "3.7.6"
  }
 },
 "nbformat": 4,
 "nbformat_minor": 4
}
