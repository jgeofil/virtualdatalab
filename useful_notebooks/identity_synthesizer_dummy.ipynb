{
 "cells": [
  {
   "cell_type": "code",
   "execution_count": null,
   "metadata": {},
   "outputs": [],
   "source": [
    "\"\"\"\n",
    "If running on Google Colab\n",
    "\"\"\"\n",
    "\n",
    "# # Mount Google Drive \n",
    "\n",
    "# from google.colab import drive\n",
    "# # gdrive is google drive contents\n",
    "# drive.mount(\"/content/gdrive\")\n",
    "# %cd gdrive/My\\ Drive\n",
    "\n",
    "# import os\n",
    "\n",
    "# if os.path.isdir(\"vdl/virtualdatalab/virtualdatalab\"):\n",
    "#   # repo already existing\n",
    "#   %cd vdl/virtualdatalab\n",
    "#   ! git pull \n",
    "#   %cd virtualdatalab\n",
    "#   !pip install -r requirements.txt\n",
    "#   !pip install .\n",
    "# else:\n",
    "#   %mkdir vdl\n",
    "#   %cd vdl\n",
    "#   ! git clone https://github.com/mostly-ai/virtualdatalab.git\n",
    "#   %cd virtualdatalab/virtualdatalab\n",
    "#   !pip install -r requirements.txt\n",
    "#   !pip install ."
   ]
  },
  {
   "cell_type": "markdown",
   "metadata": {},
   "source": [
    "Simplest showcase of Identiysynthesizer + Dummy Data Generator "
   ]
  },
  {
   "cell_type": "code",
   "execution_count": 15,
   "metadata": {},
   "outputs": [],
   "source": [
    "from virtualdatalab.target_data_generate import generate_simple_seq_dummy\n",
    "from virtualdatalab.synthesizers.identity import IdentitySynthesizer\n",
    "from virtualdatalab.benchmark import compare"
   ]
  },
  {
   "cell_type": "markdown",
   "metadata": {},
   "source": [
    "## Generate Fake Data"
   ]
  },
  {
   "cell_type": "code",
   "execution_count": 16,
   "metadata": {},
   "outputs": [],
   "source": [
    "\"\"\"\n",
    "1000 subjects\n",
    "sequences length between 2 and 6\n",
    "5 categorical columns\n",
    "5 sequential columns\n",
    "\n",
    "\"\"\"\n",
    "dummy_train_data = generate_simple_seq_dummy(1000,[2,6],5,5)"
   ]
  },
  {
   "cell_type": "markdown",
   "metadata": {},
   "source": [
    "## Instantiate Generator"
   ]
  },
  {
   "cell_type": "code",
   "execution_count": 17,
   "metadata": {},
   "outputs": [],
   "source": [
    "i = IdentitySynthesizer()\n",
    "i.train(dummy_train_data)\n",
    "generated_data = i.generate(1000)"
   ]
  },
  {
   "cell_type": "code",
   "execution_count": 18,
   "metadata": {},
   "outputs": [
    {
     "data": {
      "text/html": [
       "<div>\n",
       "<style scoped>\n",
       "    .dataframe tbody tr th:only-of-type {\n",
       "        vertical-align: middle;\n",
       "    }\n",
       "\n",
       "    .dataframe tbody tr th {\n",
       "        vertical-align: top;\n",
       "    }\n",
       "\n",
       "    .dataframe thead th {\n",
       "        text-align: right;\n",
       "    }\n",
       "</style>\n",
       "<table border=\"1\" class=\"dataframe\">\n",
       "  <thead>\n",
       "    <tr style=\"text-align: right;\">\n",
       "      <th></th>\n",
       "      <th></th>\n",
       "      <th>cat_col_0</th>\n",
       "      <th>cat_col_1</th>\n",
       "      <th>cat_col_2</th>\n",
       "      <th>cat_col_3</th>\n",
       "      <th>cat_col_4</th>\n",
       "      <th>num_col_0</th>\n",
       "      <th>num_col_1</th>\n",
       "      <th>num_col_2</th>\n",
       "      <th>num_col_3</th>\n",
       "      <th>num_col_4</th>\n",
       "    </tr>\n",
       "    <tr>\n",
       "      <th>id</th>\n",
       "      <th>sequence_pos</th>\n",
       "      <th></th>\n",
       "      <th></th>\n",
       "      <th></th>\n",
       "      <th></th>\n",
       "      <th></th>\n",
       "      <th></th>\n",
       "      <th></th>\n",
       "      <th></th>\n",
       "      <th></th>\n",
       "      <th></th>\n",
       "    </tr>\n",
       "  </thead>\n",
       "  <tbody>\n",
       "    <tr>\n",
       "      <th rowspan=\"2\" valign=\"top\">0</th>\n",
       "      <th>0</th>\n",
       "      <td>v</td>\n",
       "      <td>y</td>\n",
       "      <td>y</td>\n",
       "      <td>t</td>\n",
       "      <td>i</td>\n",
       "      <td>0.900157</td>\n",
       "      <td>0.539938</td>\n",
       "      <td>0.132476</td>\n",
       "      <td>0.229589</td>\n",
       "      <td>0.194728</td>\n",
       "    </tr>\n",
       "    <tr>\n",
       "      <th>1</th>\n",
       "      <td>f</td>\n",
       "      <td>p</td>\n",
       "      <td>e</td>\n",
       "      <td>b</td>\n",
       "      <td>m</td>\n",
       "      <td>0.833017</td>\n",
       "      <td>0.892107</td>\n",
       "      <td>0.142984</td>\n",
       "      <td>0.334639</td>\n",
       "      <td>0.615457</td>\n",
       "    </tr>\n",
       "    <tr>\n",
       "      <th rowspan=\"3\" valign=\"top\">1</th>\n",
       "      <th>0</th>\n",
       "      <td>s</td>\n",
       "      <td>z</td>\n",
       "      <td>y</td>\n",
       "      <td>q</td>\n",
       "      <td>g</td>\n",
       "      <td>0.712992</td>\n",
       "      <td>0.336894</td>\n",
       "      <td>0.500698</td>\n",
       "      <td>0.402819</td>\n",
       "      <td>0.771192</td>\n",
       "    </tr>\n",
       "    <tr>\n",
       "      <th>1</th>\n",
       "      <td>p</td>\n",
       "      <td>y</td>\n",
       "      <td>p</td>\n",
       "      <td>a</td>\n",
       "      <td>q</td>\n",
       "      <td>0.044587</td>\n",
       "      <td>0.335328</td>\n",
       "      <td>0.393066</td>\n",
       "      <td>0.552069</td>\n",
       "      <td>0.685801</td>\n",
       "    </tr>\n",
       "    <tr>\n",
       "      <th>2</th>\n",
       "      <td>r</td>\n",
       "      <td>e</td>\n",
       "      <td>d</td>\n",
       "      <td>g</td>\n",
       "      <td>p</td>\n",
       "      <td>0.709608</td>\n",
       "      <td>0.123670</td>\n",
       "      <td>0.358100</td>\n",
       "      <td>0.810698</td>\n",
       "      <td>0.838223</td>\n",
       "    </tr>\n",
       "  </tbody>\n",
       "</table>\n",
       "</div>"
      ],
      "text/plain": [
       "                cat_col_0 cat_col_1 cat_col_2 cat_col_3 cat_col_4  num_col_0  \\\n",
       "id sequence_pos                                                                \n",
       "0  0                    v         y         y         t         i   0.900157   \n",
       "   1                    f         p         e         b         m   0.833017   \n",
       "1  0                    s         z         y         q         g   0.712992   \n",
       "   1                    p         y         p         a         q   0.044587   \n",
       "   2                    r         e         d         g         p   0.709608   \n",
       "\n",
       "                 num_col_1  num_col_2  num_col_3  num_col_4  \n",
       "id sequence_pos                                              \n",
       "0  0              0.539938   0.132476   0.229589   0.194728  \n",
       "   1              0.892107   0.142984   0.334639   0.615457  \n",
       "1  0              0.336894   0.500698   0.402819   0.771192  \n",
       "   1              0.335328   0.393066   0.552069   0.685801  \n",
       "   2              0.123670   0.358100   0.810698   0.838223  "
      ]
     },
     "execution_count": 18,
     "metadata": {},
     "output_type": "execute_result"
    }
   ],
   "source": [
    "generated_data.head()"
   ]
  },
  {
   "cell_type": "markdown",
   "metadata": {},
   "source": [
    "## Analysis "
   ]
  },
  {
   "cell_type": "code",
   "execution_count": 8,
   "metadata": {},
   "outputs": [
    {
     "data": {
      "text/plain": [
       "{'accuracy_pi': 98.59426352705411, 'privacy_test': 2}"
      ]
     },
     "execution_count": 8,
     "metadata": {},
     "output_type": "execute_result"
    }
   ],
   "source": [
    "compare(dummy_train_data,generated_data)"
   ]
  },
  {
   "cell_type": "code",
   "execution_count": null,
   "metadata": {},
   "outputs": [],
   "source": [
    "import virtualdatalab.metrics "
   ]
  }
 ],
 "metadata": {
  "kernelspec": {
   "display_name": "Python 3",
   "language": "python",
   "name": "python3"
  },
  "language_info": {
   "codemirror_mode": {
    "name": "ipython",
    "version": 3
   },
   "file_extension": ".py",
   "mimetype": "text/x-python",
   "name": "python",
   "nbconvert_exporter": "python",
   "pygments_lexer": "ipython3",
   "version": "3.7.6"
  }
 },
 "nbformat": 4,
 "nbformat_minor": 4
}
