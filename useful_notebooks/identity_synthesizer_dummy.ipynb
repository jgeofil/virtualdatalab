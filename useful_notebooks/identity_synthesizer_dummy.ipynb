{
 "cells": [
  {
   "cell_type": "code",
   "execution_count": 1,
   "metadata": {},
   "outputs": [
    {
     "data": {
      "text/plain": [
       "'\\nIf running on Google Colab\\n'"
      ]
     },
     "execution_count": 1,
     "metadata": {},
     "output_type": "execute_result"
    }
   ],
   "source": [
    "\"\"\"\n",
    "If running on Google Colab\n",
    "\"\"\"\n",
    "\n",
    "# # Mount Google Drive \n",
    "\n",
    "# from google.colab import drive\n",
    "# # gdrive is google drive contents\n",
    "# drive.mount(\"/content/gdrive\")\n",
    "# %cd gdrive/My\\ Drive\n",
    "\n",
    "# import os\n",
    "\n",
    "# if os.path.isdir(\"vdl/virtualdatalab/virtualdatalab\"):\n",
    "#   # repo already existing\n",
    "#   %cd vdl/virtualdatalab\n",
    "#   ! git pull \n",
    "#   %cd virtualdatalab\n",
    "#   !pip install -r requirements.txt\n",
    "#   !pip install .\n",
    "# else:\n",
    "#   %mkdir vdl\n",
    "#   %cd vdl\n",
    "#   ! git clone https://github.com/mostly-ai/virtualdatalab.git\n",
    "#   %cd virtualdatalab/virtualdatalab\n",
    "#   !pip install -r requirements.txt\n",
    "#   !pip install ."
   ]
  },
  {
   "cell_type": "markdown",
   "metadata": {},
   "source": [
    "Simplest showcase of Identiysynthesizer + Dummy Data Generator "
   ]
  },
  {
   "cell_type": "code",
   "execution_count": 2,
   "metadata": {},
   "outputs": [],
   "source": [
    "from virtualdatalab.target_data_generate import generate_simple_seq_dummy\n",
    "from virtualdatalab.synthesizers.identity import IdentitySynthesizer\n",
    "from virtualdatalab.benchmark import compare"
   ]
  },
  {
   "cell_type": "markdown",
   "metadata": {},
   "source": [
    "## Generate Fake Data"
   ]
  },
  {
   "cell_type": "code",
   "execution_count": 3,
   "metadata": {},
   "outputs": [],
   "source": [
    "\"\"\"\n",
    "1000 subjects\n",
    "sequences length between 2 and 6\n",
    "5 categorical columns\n",
    "5 sequential columns\n",
    "\n",
    "\"\"\"\n",
    "dummy_train_data = generate_simple_seq_dummy(1000,[2,6],5,5)"
   ]
  },
  {
   "cell_type": "markdown",
   "metadata": {},
   "source": [
    "## Instantiate Generator"
   ]
  },
  {
   "cell_type": "code",
   "execution_count": 4,
   "metadata": {},
   "outputs": [],
   "source": [
    "i = IdentitySynthesizer()\n",
    "i.train(dummy_train_data)\n",
    "generated_data = i.generate(1000)"
   ]
  },
  {
   "cell_type": "code",
   "execution_count": 5,
   "metadata": {},
   "outputs": [
    {
     "data": {
      "text/html": [
       "<div>\n",
       "<style scoped>\n",
       "    .dataframe tbody tr th:only-of-type {\n",
       "        vertical-align: middle;\n",
       "    }\n",
       "\n",
       "    .dataframe tbody tr th {\n",
       "        vertical-align: top;\n",
       "    }\n",
       "\n",
       "    .dataframe thead th {\n",
       "        text-align: right;\n",
       "    }\n",
       "</style>\n",
       "<table border=\"1\" class=\"dataframe\">\n",
       "  <thead>\n",
       "    <tr style=\"text-align: right;\">\n",
       "      <th></th>\n",
       "      <th></th>\n",
       "      <th>cat_col_0</th>\n",
       "      <th>cat_col_1</th>\n",
       "      <th>cat_col_2</th>\n",
       "      <th>cat_col_3</th>\n",
       "      <th>cat_col_4</th>\n",
       "      <th>num_col_0</th>\n",
       "      <th>num_col_1</th>\n",
       "      <th>num_col_2</th>\n",
       "      <th>num_col_3</th>\n",
       "      <th>num_col_4</th>\n",
       "    </tr>\n",
       "    <tr>\n",
       "      <th>id</th>\n",
       "      <th>sequence_pos</th>\n",
       "      <th></th>\n",
       "      <th></th>\n",
       "      <th></th>\n",
       "      <th></th>\n",
       "      <th></th>\n",
       "      <th></th>\n",
       "      <th></th>\n",
       "      <th></th>\n",
       "      <th></th>\n",
       "      <th></th>\n",
       "    </tr>\n",
       "  </thead>\n",
       "  <tbody>\n",
       "    <tr>\n",
       "      <th rowspan=\"3\" valign=\"top\">0</th>\n",
       "      <th>0</th>\n",
       "      <td>e</td>\n",
       "      <td>j</td>\n",
       "      <td>r</td>\n",
       "      <td>e</td>\n",
       "      <td>e</td>\n",
       "      <td>0.059039</td>\n",
       "      <td>0.887064</td>\n",
       "      <td>0.775439</td>\n",
       "      <td>0.162470</td>\n",
       "      <td>0.923506</td>\n",
       "    </tr>\n",
       "    <tr>\n",
       "      <th>1</th>\n",
       "      <td>i</td>\n",
       "      <td>z</td>\n",
       "      <td>i</td>\n",
       "      <td>z</td>\n",
       "      <td>k</td>\n",
       "      <td>0.989625</td>\n",
       "      <td>0.897413</td>\n",
       "      <td>0.830346</td>\n",
       "      <td>0.256706</td>\n",
       "      <td>0.881451</td>\n",
       "    </tr>\n",
       "    <tr>\n",
       "      <th>2</th>\n",
       "      <td>l</td>\n",
       "      <td>z</td>\n",
       "      <td>p</td>\n",
       "      <td>j</td>\n",
       "      <td>n</td>\n",
       "      <td>0.899371</td>\n",
       "      <td>0.931578</td>\n",
       "      <td>0.172852</td>\n",
       "      <td>0.015751</td>\n",
       "      <td>0.531577</td>\n",
       "    </tr>\n",
       "    <tr>\n",
       "      <th rowspan=\"2\" valign=\"top\">1</th>\n",
       "      <th>0</th>\n",
       "      <td>g</td>\n",
       "      <td>b</td>\n",
       "      <td>y</td>\n",
       "      <td>i</td>\n",
       "      <td>f</td>\n",
       "      <td>0.625872</td>\n",
       "      <td>0.319641</td>\n",
       "      <td>0.268148</td>\n",
       "      <td>0.820794</td>\n",
       "      <td>0.614254</td>\n",
       "    </tr>\n",
       "    <tr>\n",
       "      <th>1</th>\n",
       "      <td>q</td>\n",
       "      <td>b</td>\n",
       "      <td>w</td>\n",
       "      <td>c</td>\n",
       "      <td>r</td>\n",
       "      <td>0.682132</td>\n",
       "      <td>0.021454</td>\n",
       "      <td>0.930275</td>\n",
       "      <td>0.852640</td>\n",
       "      <td>0.392918</td>\n",
       "    </tr>\n",
       "  </tbody>\n",
       "</table>\n",
       "</div>"
      ],
      "text/plain": [
       "                cat_col_0 cat_col_1 cat_col_2 cat_col_3 cat_col_4  num_col_0  \\\n",
       "id sequence_pos                                                                \n",
       "0  0                    e         j         r         e         e   0.059039   \n",
       "   1                    i         z         i         z         k   0.989625   \n",
       "   2                    l         z         p         j         n   0.899371   \n",
       "1  0                    g         b         y         i         f   0.625872   \n",
       "   1                    q         b         w         c         r   0.682132   \n",
       "\n",
       "                 num_col_1  num_col_2  num_col_3  num_col_4  \n",
       "id sequence_pos                                              \n",
       "0  0              0.887064   0.775439   0.162470   0.923506  \n",
       "   1              0.897413   0.830346   0.256706   0.881451  \n",
       "   2              0.931578   0.172852   0.015751   0.531577  \n",
       "1  0              0.319641   0.268148   0.820794   0.614254  \n",
       "   1              0.021454   0.930275   0.852640   0.392918  "
      ]
     },
     "execution_count": 5,
     "metadata": {},
     "output_type": "execute_result"
    }
   ],
   "source": [
    "generated_data.head()"
   ]
  },
  {
   "cell_type": "markdown",
   "metadata": {},
   "source": [
    "## Analysis "
   ]
  },
  {
   "cell_type": "code",
   "execution_count": 6,
   "metadata": {},
   "outputs": [
    {
     "data": {
      "text/plain": [
       "{'univariate_total_variation_distance': 1.8168505516549642,\n",
       " 'bivariate_total_variation_distance': 0.7999999999999999,\n",
       " 'correlation_difference': 3.5642077254943976,\n",
       " 'distance_to_closest_record': False,\n",
       " 'nearest_neighbor_distance_ratio': False}"
      ]
     },
     "execution_count": 6,
     "metadata": {},
     "output_type": "execute_result"
    }
   ],
   "source": [
    "compare(dummy_train_data,generated_data)"
   ]
  }
 ],
 "metadata": {
  "kernelspec": {
   "display_name": "Python 3",
   "language": "python",
   "name": "python3"
  },
  "language_info": {
   "codemirror_mode": {
    "name": "ipython",
    "version": 3
   },
   "file_extension": ".py",
   "mimetype": "text/x-python",
   "name": "python",
   "nbconvert_exporter": "python",
   "pygments_lexer": "ipython3",
   "version": "3.7.6"
  }
 },
 "nbformat": 4,
 "nbformat_minor": 4
}
