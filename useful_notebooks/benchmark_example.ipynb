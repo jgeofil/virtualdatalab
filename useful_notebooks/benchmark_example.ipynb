{
 "cells": [
  {
   "cell_type": "code",
   "execution_count": 1,
   "metadata": {},
   "outputs": [
    {
     "data": {
      "text/plain": [
       "'\\nIf running on Google Colab\\n'"
      ]
     },
     "execution_count": 1,
     "metadata": {},
     "output_type": "execute_result"
    }
   ],
   "source": [
    "\"\"\"\n",
    "If running on Google Colab\n",
    "\"\"\"\n",
    "# %mkdir vdl\n",
    "# %cd vdl\n",
    "# ! git clone https://github.com/mostly-ai/virtualdatalab.git\n",
    "# %cd virtualdatalab/virtualdatalab\n",
    "# !pip install -r requirements.txt\n",
    "# !pip install ."
   ]
  },
  {
   "cell_type": "code",
   "execution_count": 2,
   "metadata": {},
   "outputs": [],
   "source": [
    "from virtualdatalab.synthesizers.identity import IdentitySynthesizer\n",
    "from virtualdatalab.synthesizers.flatautoencoder import FlatAutoEncoderSynthesizer\n",
    "from virtualdatalab.benchmark import benchmark"
   ]
  },
  {
   "cell_type": "markdown",
   "metadata": {},
   "source": [
    "## Instantiate Generators"
   ]
  },
  {
   "cell_type": "code",
   "execution_count": 3,
   "metadata": {},
   "outputs": [
    {
     "name": "stdout",
     "output_type": "stream",
     "text": [
      "Using cpu for computation\n"
     ]
    }
   ],
   "source": [
    "flatautoencoder = FlatAutoEncoderSynthesizer(number_of_epochs = 1)"
   ]
  },
  {
   "cell_type": "code",
   "execution_count": 4,
   "metadata": {},
   "outputs": [],
   "source": [
    "i = IdentitySynthesizer()"
   ]
  },
  {
   "cell_type": "code",
   "execution_count": 5,
   "metadata": {},
   "outputs": [],
   "source": [
    "synthesizer_classes = [i,flatautoencoder]\n",
    "#synthesizer_classes = [i]"
   ]
  },
  {
   "cell_type": "markdown",
   "metadata": {},
   "source": [
    "## Compare Target and Synthetic Data Set"
   ]
  },
  {
   "cell_type": "code",
   "execution_count": 6,
   "metadata": {},
   "outputs": [
    {
     "name": "stdout",
     "output_type": "stream",
     "text": [
      "Evaluating synthesizer IdentitySynthesizer\n",
      "With dataset cdnow\n",
      "Training took 0.0006012916564941406\n",
      "Generating took 0.01662158966064453\n",
      "Comparing took 256.70408153533936\n",
      "With dataset berka\n",
      "Training took 0.0003120899200439453\n",
      "Generating took 0.018308639526367188\n",
      "Comparing took 1539.1830294132233\n",
      "Evaluating synthesizer FlatAutoEncoderSynthesizer\n",
      "With dataset cdnow\n",
      "Epoch: 0 // Average Loss: 1.483383946120739\n",
      "Training took 0.3039863109588623\n",
      "Generating took 0.38834261894226074\n",
      "Comparing took 272.8672068119049\n",
      "With dataset berka\n",
      "Epoch: 0 // Average Loss: 1.395348608493805\n",
      "Training took 0.6266582012176514\n",
      "Generating took 2.2738280296325684\n",
      "Comparing took 1271.5855720043182\n"
     ]
    }
   ],
   "source": [
    "df = benchmark(synthesizer_classes,verbose=True)"
   ]
  },
  {
   "cell_type": "code",
   "execution_count": 7,
   "metadata": {},
   "outputs": [
    {
     "data": {
      "text/html": [
       "<div>\n",
       "<style scoped>\n",
       "    .dataframe tbody tr th:only-of-type {\n",
       "        vertical-align: middle;\n",
       "    }\n",
       "\n",
       "    .dataframe tbody tr th {\n",
       "        vertical-align: top;\n",
       "    }\n",
       "\n",
       "    .dataframe thead th {\n",
       "        text-align: right;\n",
       "    }\n",
       "</style>\n",
       "<table border=\"1\" class=\"dataframe\">\n",
       "  <thead>\n",
       "    <tr style=\"text-align: right;\">\n",
       "      <th></th>\n",
       "      <th>synthesizer</th>\n",
       "      <th>dataset_name</th>\n",
       "      <th>univariate_total_variation_distance</th>\n",
       "      <th>bivariate_total_variation_distance</th>\n",
       "      <th>correlation_difference</th>\n",
       "      <th>distance_to_closest_record</th>\n",
       "      <th>nearest_neighbor_distance_ratio</th>\n",
       "    </tr>\n",
       "  </thead>\n",
       "  <tbody>\n",
       "    <tr>\n",
       "      <th>0</th>\n",
       "      <td>IdentitySynthesizer</td>\n",
       "      <td>cdnow</td>\n",
       "      <td>0.0107056</td>\n",
       "      <td>0.0101062</td>\n",
       "      <td>0.0108229</td>\n",
       "      <td>False</td>\n",
       "      <td>False</td>\n",
       "    </tr>\n",
       "    <tr>\n",
       "      <th>0</th>\n",
       "      <td>IdentitySynthesizer</td>\n",
       "      <td>berka</td>\n",
       "      <td>0.0263588</td>\n",
       "      <td>0.0330635</td>\n",
       "      <td>0.0666596</td>\n",
       "      <td>True</td>\n",
       "      <td>False</td>\n",
       "    </tr>\n",
       "    <tr>\n",
       "      <th>0</th>\n",
       "      <td>FlatAutoEncoderSynthesizer</td>\n",
       "      <td>cdnow</td>\n",
       "      <td>0.812879</td>\n",
       "      <td>0.844903</td>\n",
       "      <td>0.242389</td>\n",
       "      <td>True</td>\n",
       "      <td>True</td>\n",
       "    </tr>\n",
       "    <tr>\n",
       "      <th>0</th>\n",
       "      <td>FlatAutoEncoderSynthesizer</td>\n",
       "      <td>berka</td>\n",
       "      <td>0.31965</td>\n",
       "      <td>0.370444</td>\n",
       "      <td>0.491885</td>\n",
       "      <td>True</td>\n",
       "      <td>True</td>\n",
       "    </tr>\n",
       "  </tbody>\n",
       "</table>\n",
       "</div>"
      ],
      "text/plain": [
       "                  synthesizer dataset_name  \\\n",
       "0         IdentitySynthesizer        cdnow   \n",
       "0         IdentitySynthesizer        berka   \n",
       "0  FlatAutoEncoderSynthesizer        cdnow   \n",
       "0  FlatAutoEncoderSynthesizer        berka   \n",
       "\n",
       "  univariate_total_variation_distance bivariate_total_variation_distance  \\\n",
       "0                           0.0107056                          0.0101062   \n",
       "0                           0.0263588                          0.0330635   \n",
       "0                            0.812879                           0.844903   \n",
       "0                             0.31965                           0.370444   \n",
       "\n",
       "  correlation_difference distance_to_closest_record  \\\n",
       "0              0.0108229                      False   \n",
       "0              0.0666596                       True   \n",
       "0               0.242389                       True   \n",
       "0               0.491885                       True   \n",
       "\n",
       "  nearest_neighbor_distance_ratio  \n",
       "0                           False  \n",
       "0                           False  \n",
       "0                            True  \n",
       "0                            True  "
      ]
     },
     "execution_count": 7,
     "metadata": {},
     "output_type": "execute_result"
    }
   ],
   "source": [
    "df"
   ]
  }
 ],
 "metadata": {
  "kernelspec": {
   "display_name": "Python 3",
   "language": "python",
   "name": "python3"
  },
  "language_info": {
   "codemirror_mode": {
    "name": "ipython",
    "version": 3
   },
   "file_extension": ".py",
   "mimetype": "text/x-python",
   "name": "python",
   "nbconvert_exporter": "python",
   "pygments_lexer": "ipython3",
   "version": "3.7.6"
  }
 },
 "nbformat": 4,
 "nbformat_minor": 4
}
