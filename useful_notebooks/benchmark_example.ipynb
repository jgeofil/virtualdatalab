{
 "cells": [
  {
   "cell_type": "code",
   "execution_count": 1,
   "metadata": {},
   "outputs": [
    {
     "data": {
      "text/plain": [
       "'\\nIf running on Google Colab\\n'"
      ]
     },
     "execution_count": 1,
     "metadata": {},
     "output_type": "execute_result"
    }
   ],
   "source": [
    "\"\"\"\n",
    "If running on Google Colab\n",
    "\"\"\"\n",
    "# %mkdir vdl\n",
    "# %cd vdl\n",
    "# ! git clone https://github.com/mostly-ai/virtualdatalab.git\n",
    "# %cd virtualdatalab/virtualdatalab\n",
    "# !pip install -r requirements.txt\n",
    "# !pip install ."
   ]
  },
  {
   "cell_type": "code",
   "execution_count": 2,
   "metadata": {},
   "outputs": [],
   "source": [
    "from virtualdatalab.synthesizers.identity import IdentitySynthesizer\n",
    "from virtualdatalab.synthesizers.flatautoencoder import FlatAutoEncoderSynthesizer\n",
    "from virtualdatalab.benchmark import benchmark"
   ]
  },
  {
   "cell_type": "markdown",
   "metadata": {},
   "source": [
    "## Instantiate Generators"
   ]
  },
  {
   "cell_type": "code",
   "execution_count": 3,
   "metadata": {},
   "outputs": [
    {
     "name": "stdout",
     "output_type": "stream",
     "text": [
      "Using cpu for computation\n"
     ]
    }
   ],
   "source": [
    "flatautoencoder = FlatAutoEncoderSynthesizer(number_of_epochs = 1)"
   ]
  },
  {
   "cell_type": "code",
   "execution_count": 4,
   "metadata": {},
   "outputs": [],
   "source": [
    "i = IdentitySynthesizer()"
   ]
  },
  {
   "cell_type": "code",
   "execution_count": 5,
   "metadata": {},
   "outputs": [],
   "source": [
    "synthesizer_classes = [i,flatautoencoder]\n",
    "#synthesizer_classes = [i]"
   ]
  },
  {
   "cell_type": "markdown",
   "metadata": {},
   "source": [
    "## Compare Target and Synthetic Data Set"
   ]
  },
  {
   "cell_type": "code",
   "execution_count": 6,
   "metadata": {},
   "outputs": [
    {
     "name": "stdout",
     "output_type": "stream",
     "text": [
      "Evaluating synthesizer IdentitySynthesizer\n",
      "With dataset cdnow\n",
      "Training took 0.0004162788391113281\n",
      "Generating took 0.010049819946289062\n",
      "Comparing took 209.4619288444519\n",
      "With dataset berka\n",
      "Training took 0.00032591819763183594\n",
      "Generating took 0.016838788986206055\n",
      "Comparing took 1092.0392894744873\n",
      "Evaluating synthesizer FlatAutoEncoderSynthesizer\n",
      "With dataset cdnow\n",
      "Epoch epoch: 0 // Average Loss: 1.4859940826892852\n",
      "Training took 0.32537388801574707\n",
      "Generating took 0.3656613826751709\n",
      "Comparing took 293.252822637558\n",
      "With dataset berka\n",
      "Epoch epoch: 0 // Average Loss: 1.403993420302868\n",
      "Training took 0.8343608379364014\n"
     ]
    }
   ],
   "source": [
    "df = benchmark(synthesizer_classes,verbose=True)"
   ]
  },
  {
   "cell_type": "code",
   "execution_count": null,
   "metadata": {},
   "outputs": [],
   "source": [
    "df"
   ]
  }
 ],
 "metadata": {
  "kernelspec": {
   "display_name": "Python 3",
   "language": "python",
   "name": "python3"
  },
  "language_info": {
   "codemirror_mode": {
    "name": "ipython",
    "version": 3
   },
   "file_extension": ".py",
   "mimetype": "text/x-python",
   "name": "python",
   "nbconvert_exporter": "python",
   "pygments_lexer": "ipython3",
   "version": "3.7.6"
  }
 },
 "nbformat": 4,
 "nbformat_minor": 4
}
