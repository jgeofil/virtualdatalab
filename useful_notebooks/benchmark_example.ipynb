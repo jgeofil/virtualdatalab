{
 "cells": [
  {
   "cell_type": "code",
   "execution_count": 1,
   "metadata": {},
   "outputs": [
    {
     "data": {
      "text/plain": [
       "'\\nIf running on Google Colab\\n'"
      ]
     },
     "execution_count": 1,
     "metadata": {},
     "output_type": "execute_result"
    }
   ],
   "source": [
    "\"\"\"\n",
    "If running on Google Colab\n",
    "\"\"\"\n",
    "\n",
    "# %mkdir vdl\n",
    "# %cd vdl\n",
    "# ! git clone https://github.com/mostly-ai/virtualdatalab.git\n",
    "# %cd virtualdatalab/virtualdatalab\n",
    "# !pip install -r requirements.txt\n",
    "# !pip install ."
   ]
  },
  {
   "cell_type": "code",
   "execution_count": 2,
   "metadata": {},
   "outputs": [],
   "source": [
    "from virtualdatalab.synthesizers.identity import IdentitySynthesizer\n",
    "from virtualdatalab.synthesizers.flatautoencoder import FlatAutoEncoderSynthesizer\n",
    "from virtualdatalab.synthesizers.shuffle import ShuffleSynthesizer\n",
    "from virtualdatalab.benchmark import benchmark"
   ]
  },
  {
   "cell_type": "markdown",
   "metadata": {},
   "source": [
    "## Instantiate Generators"
   ]
  },
  {
   "cell_type": "code",
   "execution_count": 3,
   "metadata": {},
   "outputs": [
    {
     "name": "stdout",
     "output_type": "stream",
     "text": [
      "Using cpu for computation\n"
     ]
    }
   ],
   "source": [
    "fae_syn = FlatAutoEncoderSynthesizer()\n",
    "id_syn = IdentitySynthesizer()\n",
    "shuffle_syn = ShuffleSynthesizer()\n",
    "synthesizers = [id_syn, fae_syn]"
   ]
  },
  {
   "cell_type": "markdown",
   "metadata": {},
   "source": [
    "## Compare Target and Synthetic Data Set"
   ]
  },
  {
   "cell_type": "code",
   "execution_count": 4,
   "metadata": {},
   "outputs": [
    {
     "name": "stdout",
     "output_type": "stream",
     "text": [
      "Evaluating synthesizer IdentitySynthesizer\n",
      "With dataset cdnow\n",
      "Training took 0.0 seconds\n",
      "Generating took 0.0 seconds\n",
      "Comparing took 25.0 seconds\n",
      "With dataset berka\n",
      "Training took 0.0 seconds\n",
      "Generating took 0.0 seconds\n",
      "Comparing took 43.0 seconds\n",
      "With dataset mlb\n",
      "Training took 0.0 seconds\n",
      "Generating took 0.0 seconds\n",
      "Comparing took 32.0 seconds\n",
      "Evaluating synthesizer FlatAutoEncoderSynthesizer\n",
      "With dataset cdnow\n",
      "Training took 3.0 seconds\n",
      "Generating took 0.0 seconds\n",
      "Comparing took 26.0 seconds\n",
      "With dataset berka\n",
      "Training took 11.0 seconds\n",
      "Generating took 1.0 seconds\n",
      "Comparing took 38.0 seconds\n",
      "With dataset mlb\n",
      "Training took 8.0 seconds\n",
      "Generating took 1.0 seconds\n",
      "Comparing took 36.0 seconds\n"
     ]
    }
   ],
   "source": [
    "# current set up will take ~5 min to run\n",
    "results = benchmark(synthesizers, verbose=True)"
   ]
  },
  {
   "cell_type": "code",
   "execution_count": 5,
   "metadata": {},
   "outputs": [
    {
     "data": {
      "text/html": [
       "<div>\n",
       "<style scoped>\n",
       "    .dataframe tbody tr th:only-of-type {\n",
       "        vertical-align: middle;\n",
       "    }\n",
       "\n",
       "    .dataframe tbody tr th {\n",
       "        vertical-align: top;\n",
       "    }\n",
       "\n",
       "    .dataframe thead th {\n",
       "        text-align: right;\n",
       "    }\n",
       "</style>\n",
       "<table border=\"1\" class=\"dataframe\">\n",
       "  <thead>\n",
       "    <tr style=\"text-align: right;\">\n",
       "      <th></th>\n",
       "      <th>synthesizer</th>\n",
       "      <th>dataset_name</th>\n",
       "      <th>TVD 1dim</th>\n",
       "      <th>L1D 1dim</th>\n",
       "      <th>Hellinger 1dim</th>\n",
       "      <th>TVD 2dim</th>\n",
       "      <th>L1D 2dim</th>\n",
       "      <th>Hellinger 2dim</th>\n",
       "      <th>DCR</th>\n",
       "      <th>NNDR</th>\n",
       "    </tr>\n",
       "  </thead>\n",
       "  <tbody>\n",
       "    <tr>\n",
       "      <th>0</th>\n",
       "      <td>IdentitySynthesizer</td>\n",
       "      <td>cdnow</td>\n",
       "      <td>0.01163</td>\n",
       "      <td>0.04527</td>\n",
       "      <td>0.02322</td>\n",
       "      <td>0.0096</td>\n",
       "      <td>0.10437</td>\n",
       "      <td>0.05504</td>\n",
       "      <td>FAILED</td>\n",
       "      <td>FAILED</td>\n",
       "    </tr>\n",
       "    <tr>\n",
       "      <th>0</th>\n",
       "      <td>IdentitySynthesizer</td>\n",
       "      <td>berka</td>\n",
       "      <td>0.00581</td>\n",
       "      <td>0.02439</td>\n",
       "      <td>0.0146</td>\n",
       "      <td>0.01968</td>\n",
       "      <td>0.07303</td>\n",
       "      <td>0.03889</td>\n",
       "      <td>FAILED</td>\n",
       "      <td>FAILED</td>\n",
       "    </tr>\n",
       "    <tr>\n",
       "      <th>0</th>\n",
       "      <td>IdentitySynthesizer</td>\n",
       "      <td>mlb</td>\n",
       "      <td>0.0127</td>\n",
       "      <td>0.0473</td>\n",
       "      <td>0.02212</td>\n",
       "      <td>0.0095</td>\n",
       "      <td>0.09988</td>\n",
       "      <td>0.05014</td>\n",
       "      <td>FAILED</td>\n",
       "      <td>FAILED</td>\n",
       "    </tr>\n",
       "    <tr>\n",
       "      <th>0</th>\n",
       "      <td>FlatAutoEncoderSynthesizer</td>\n",
       "      <td>cdnow</td>\n",
       "      <td>0.31151</td>\n",
       "      <td>0.8766</td>\n",
       "      <td>0.38638</td>\n",
       "      <td>0.14677</td>\n",
       "      <td>1.30819</td>\n",
       "      <td>0.58286</td>\n",
       "      <td>PASSED</td>\n",
       "      <td>PASSED</td>\n",
       "    </tr>\n",
       "    <tr>\n",
       "      <th>0</th>\n",
       "      <td>FlatAutoEncoderSynthesizer</td>\n",
       "      <td>berka</td>\n",
       "      <td>0.11719</td>\n",
       "      <td>0.33387</td>\n",
       "      <td>0.19712</td>\n",
       "      <td>0.13806</td>\n",
       "      <td>0.60166</td>\n",
       "      <td>0.33123</td>\n",
       "      <td>PASSED</td>\n",
       "      <td>PASSED</td>\n",
       "    </tr>\n",
       "    <tr>\n",
       "      <th>0</th>\n",
       "      <td>FlatAutoEncoderSynthesizer</td>\n",
       "      <td>mlb</td>\n",
       "      <td>0.2682</td>\n",
       "      <td>0.9039</td>\n",
       "      <td>0.41399</td>\n",
       "      <td>0.19248</td>\n",
       "      <td>1.31635</td>\n",
       "      <td>0.61761</td>\n",
       "      <td>PASSED</td>\n",
       "      <td>PASSED</td>\n",
       "    </tr>\n",
       "  </tbody>\n",
       "</table>\n",
       "</div>"
      ],
      "text/plain": [
       "                  synthesizer dataset_name TVD 1dim L1D 1dim Hellinger 1dim  \\\n",
       "0         IdentitySynthesizer        cdnow  0.01163  0.04527        0.02322   \n",
       "0         IdentitySynthesizer        berka  0.00581  0.02439         0.0146   \n",
       "0         IdentitySynthesizer          mlb   0.0127   0.0473        0.02212   \n",
       "0  FlatAutoEncoderSynthesizer        cdnow  0.31151   0.8766        0.38638   \n",
       "0  FlatAutoEncoderSynthesizer        berka  0.11719  0.33387        0.19712   \n",
       "0  FlatAutoEncoderSynthesizer          mlb   0.2682   0.9039        0.41399   \n",
       "\n",
       "  TVD 2dim L1D 2dim Hellinger 2dim     DCR    NNDR  \n",
       "0   0.0096  0.10437        0.05504  FAILED  FAILED  \n",
       "0  0.01968  0.07303        0.03889  FAILED  FAILED  \n",
       "0   0.0095  0.09988        0.05014  FAILED  FAILED  \n",
       "0  0.14677  1.30819        0.58286  PASSED  PASSED  \n",
       "0  0.13806  0.60166        0.33123  PASSED  PASSED  \n",
       "0  0.19248  1.31635        0.61761  PASSED  PASSED  "
      ]
     },
     "execution_count": 5,
     "metadata": {},
     "output_type": "execute_result"
    }
   ],
   "source": [
    "results"
   ]
  },
  {
   "cell_type": "code",
   "execution_count": null,
   "metadata": {},
   "outputs": [],
   "source": []
  },
  {
   "cell_type": "code",
   "execution_count": null,
   "metadata": {},
   "outputs": [],
   "source": []
  }
 ],
 "metadata": {
  "kernelspec": {
   "display_name": "Python 3",
   "language": "python",
   "name": "python3"
  },
  "language_info": {
   "codemirror_mode": {
    "name": "ipython",
    "version": 3
   },
   "file_extension": ".py",
   "mimetype": "text/x-python",
   "name": "python",
   "nbconvert_exporter": "python",
   "pygments_lexer": "ipython3",
   "version": "3.8.5"
  }
 },
 "nbformat": 4,
 "nbformat_minor": 4
}
