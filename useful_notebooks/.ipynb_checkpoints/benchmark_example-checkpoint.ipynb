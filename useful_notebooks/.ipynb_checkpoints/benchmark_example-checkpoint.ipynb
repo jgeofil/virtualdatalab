{
 "cells": [
  {
   "cell_type": "code",
   "execution_count": null,
   "metadata": {},
   "outputs": [],
   "source": [
    "\"\"\"\n",
    "If running on Google Colab\n",
    "\"\"\"\n",
    "\n",
    "# # Mount Google Drive \n",
    "\n",
    "# from google.colab import drive\n",
    "# # gdrive is google drive contents\n",
    "# drive.mount(\"/content/gdrive\")\n",
    "# %cd gdrive/My\\ Drive\n",
    "\n",
    "# import os\n",
    "\n",
    "# if os.path.isdir(\"vdl/virtualdatalab/virtualdatalab\"):\n",
    "#   # repo already existing\n",
    "#   %cd vdl/virtualdatalab\n",
    "#   ! git pull \n",
    "#   %cd virtualdatalab\n",
    "#   !pip install -r requirements.txt\n",
    "#   !pip install .\n",
    "# else:\n",
    "#   %mkdir vdl\n",
    "#   %cd vdl\n",
    "#   ! git clone https://github.com/mostly-ai/virtualdatalab.git\n",
    "#   %cd virtualdatalab/virtualdatalab\n",
    "#   !pip install -r requirements.txt\n",
    "#   !pip install ."
   ]
  },
  {
   "cell_type": "code",
   "execution_count": 1,
   "metadata": {},
   "outputs": [],
   "source": [
    "from virtualdatalab.synthesizers.identity import IdentitySynthesizer\n",
    "from virtualdatalab.synthesizers.flatautoencoder import FlatAutoEncoderSynthesizer\n",
    "from virtualdatalab.benchmark import benchmark"
   ]
  },
  {
   "cell_type": "markdown",
   "metadata": {},
   "source": [
    "## Instantiate Generators"
   ]
  },
  {
   "cell_type": "code",
   "execution_count": 2,
   "metadata": {},
   "outputs": [
    {
     "name": "stdout",
     "output_type": "stream",
     "text": [
      "Using cpu for computation\n"
     ]
    }
   ],
   "source": [
    "flatautoencoder = FlatAutoEncoderSynthesizer(number_of_epochs = 1)"
   ]
  },
  {
   "cell_type": "code",
   "execution_count": 3,
   "metadata": {},
   "outputs": [],
   "source": [
    "i = IdentitySynthesizer()"
   ]
  },
  {
   "cell_type": "code",
   "execution_count": 4,
   "metadata": {},
   "outputs": [],
   "source": [
    "# synthesizer_classes = [i,flatautoencoder]\n",
    "synthesizer_classes = [i]"
   ]
  },
  {
   "cell_type": "markdown",
   "metadata": {},
   "source": [
    "## Compare Target and Synthetic Data Set"
   ]
  },
  {
   "cell_type": "code",
   "execution_count": 5,
   "metadata": {},
   "outputs": [
    {
     "name": "stdout",
     "output_type": "stream",
     "text": [
      "Evaluating synthesizer IdentitySynthesizer\n",
      "With dataset cdnow\n",
      "Training took 0.0004904270172119141\n",
      "Generating took 58.107096433639526\n",
      "Comparing took 237.04747033119202\n",
      "With dataset berka\n",
      "Training took 0.0003504753112792969\n",
      "Generating took 91.19381833076477\n",
      "Comparing took 426.9384572505951\n"
     ]
    }
   ],
   "source": [
    "df = benchmark(synthesizer_classes,verbose=True)"
   ]
  },
  {
   "cell_type": "code",
   "execution_count": 6,
   "metadata": {},
   "outputs": [
    {
     "data": {
      "text/html": [
       "<div>\n",
       "<style scoped>\n",
       "    .dataframe tbody tr th:only-of-type {\n",
       "        vertical-align: middle;\n",
       "    }\n",
       "\n",
       "    .dataframe tbody tr th {\n",
       "        vertical-align: top;\n",
       "    }\n",
       "\n",
       "    .dataframe thead th {\n",
       "        text-align: right;\n",
       "    }\n",
       "</style>\n",
       "<table border=\"1\" class=\"dataframe\">\n",
       "  <thead>\n",
       "    <tr style=\"text-align: right;\">\n",
       "      <th></th>\n",
       "      <th>synthesizer</th>\n",
       "      <th>dataset_name</th>\n",
       "      <th>accuracy_pi</th>\n",
       "      <th>privacy_test</th>\n",
       "    </tr>\n",
       "  </thead>\n",
       "  <tbody>\n",
       "    <tr>\n",
       "      <th>0</th>\n",
       "      <td>IdentitySynthesizer</td>\n",
       "      <td>cdnow</td>\n",
       "      <td>99.5102</td>\n",
       "      <td>2</td>\n",
       "    </tr>\n",
       "    <tr>\n",
       "      <th>0</th>\n",
       "      <td>IdentitySynthesizer</td>\n",
       "      <td>berka</td>\n",
       "      <td>98.7199</td>\n",
       "      <td>2</td>\n",
       "    </tr>\n",
       "  </tbody>\n",
       "</table>\n",
       "</div>"
      ],
      "text/plain": [
       "           synthesizer dataset_name accuracy_pi privacy_test\n",
       "0  IdentitySynthesizer        cdnow     99.5102            2\n",
       "0  IdentitySynthesizer        berka     98.7199            2"
      ]
     },
     "execution_count": 6,
     "metadata": {},
     "output_type": "execute_result"
    }
   ],
   "source": [
    "df"
   ]
  },
  {
   "cell_type": "code",
   "execution_count": null,
   "metadata": {},
   "outputs": [],
   "source": []
  }
 ],
 "metadata": {
  "kernelspec": {
   "display_name": "Python 3",
   "language": "python",
   "name": "python3"
  },
  "language_info": {
   "codemirror_mode": {
    "name": "ipython",
    "version": 3
   },
   "file_extension": ".py",
   "mimetype": "text/x-python",
   "name": "python",
   "nbconvert_exporter": "python",
   "pygments_lexer": "ipython3",
   "version": "3.7.6"
  }
 },
 "nbformat": 4,
 "nbformat_minor": 4
}
