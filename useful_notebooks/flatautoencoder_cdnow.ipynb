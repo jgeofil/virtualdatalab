{
  "nbformat": 4,
  "nbformat_minor": 0,
  "metadata": {
    "kernelspec": {
      "display_name": "Python 3",
      "language": "python",
      "name": "python3"
    },
    "language_info": {
      "codemirror_mode": {
        "name": "ipython",
        "version": 3
      },
      "file_extension": ".py",
      "mimetype": "text/x-python",
      "name": "python",
      "nbconvert_exporter": "python",
      "pygments_lexer": "ipython3",
      "version": "3.7.6"
    },
    "colab": {
      "name": "flatautoencoder_cdnow.ipynb",
      "provenance": []
    },
    "accelerator": "GPU"
  },
  "cells": [
    {
      "cell_type": "code",
      "metadata": {
        "id": "I3wXi8Rhy5hu",
        "colab_type": "code",
        "colab": {
          "base_uri": "https://localhost:8080/",
          "height": 35
        },
        "outputId": "383b1352-67d0-4263-8ffa-70691e6a41dc"
      },
      "source": [
        "\"\"\"\n",
        "If running on Google Colab\n",
        "\"\"\"\n",
        "# %mkdir vdl\n",
        "# %cd vdl\n",
        "# ! git clone https://github.com/mostly-ai/virtualdatalab.git\n",
        "# %cd virtualdatalab/virtualdatalab\n",
        "# !pip install -r requirements.txt\n",
        "# !pip install ."
      ],
      "execution_count": 11,
      "outputs": [
        {
          "output_type": "execute_result",
          "data": {
            "application/vnd.google.colaboratory.intrinsic": {
              "type": "string"
            },
            "text/plain": [
              "'\\nIf running on Google Colab\\n'"
            ]
          },
          "metadata": {
            "tags": []
          },
          "execution_count": 11
        }
      ]
    },
    {
      "cell_type": "code",
      "metadata": {
        "id": "tBbDhK2ry5h3",
        "colab_type": "code",
        "colab": {}
      },
      "source": [
        "from virtualdatalab.datasets.loader import load_cdnow\n",
        "from virtualdatalab.synthesizers.flatautoencoder import FlatAutoEncoderSynthesizer\n",
        "from virtualdatalab.benchmark import compare"
      ],
      "execution_count": 2,
      "outputs": []
    },
    {
      "cell_type": "markdown",
      "metadata": {
        "id": "hZwI5aQHy5h_",
        "colab_type": "text"
      },
      "source": [
        "# Load Data"
      ]
    },
    {
      "cell_type": "code",
      "metadata": {
        "id": "9oZ586L6y5iA",
        "colab_type": "code",
        "colab": {}
      },
      "source": [
        "target_data = load_cdnow()"
      ],
      "execution_count": 3,
      "outputs": []
    },
    {
      "cell_type": "code",
      "metadata": {
        "id": "3nL14OUEy5iG",
        "colab_type": "code",
        "colab": {}
      },
      "source": [
        "target_data.head()"
      ],
      "execution_count": null,
      "outputs": []
    },
    {
      "cell_type": "markdown",
      "metadata": {
        "id": "JNOjY0HHy5iL",
        "colab_type": "text"
      },
      "source": [
        "# Instantiate Synthesizer"
      ]
    },
    {
      "cell_type": "code",
      "metadata": {
        "id": "lqaFrtFwy5iM",
        "colab_type": "code",
        "colab": {}
      },
      "source": [
        "?FlatAutoEncoderSynthesizer"
      ],
      "execution_count": 5,
      "outputs": []
    },
    {
      "cell_type": "code",
      "metadata": {
        "id": "3x9iKfT1y5iS",
        "colab_type": "code",
        "colab": {}
      },
      "source": [
        "f = FlatAutoEncoderSynthesizer()"
      ],
      "execution_count": null,
      "outputs": []
    },
    {
      "cell_type": "code",
      "metadata": {
        "id": "mAvjwb7Zy5iV",
        "colab_type": "code",
        "colab": {}
      },
      "source": [
        "f.train(target_data)"
      ],
      "execution_count": 7,
      "outputs": []
    },
    {
      "cell_type": "code",
      "metadata": {
        "id": "aT0yIJAcy5ia",
        "colab_type": "code",
        "colab": {}
      },
      "source": [
        "number_of_subjects = 100\n",
        "synthetic_data = f.generate(number_of_subjects)"
      ],
      "execution_count": 8,
      "outputs": []
    },
    {
      "cell_type": "markdown",
      "metadata": {
        "id": "7_iFHURiy5id",
        "colab_type": "text"
      },
      "source": [
        "# Compare"
      ]
    },
    {
      "cell_type": "code",
      "metadata": {
        "id": "OwyO46Rgy5ie",
        "colab_type": "code",
        "colab": {}
      },
      "source": [
        "# demo purposes\n",
        "import time \n",
        "start = time.time()\n",
        "compare_vals = compare(target_data,synthetic_data,metrics_to_return=['accuracy-frequency'])\n",
        "end = time.time()\n",
        "print(end-start)"
      ],
      "execution_count": null,
      "outputs": []
    },
    {
      "cell_type": "code",
      "metadata": {
        "id": "nFTpl8UTzVef",
        "colab_type": "code",
        "colab": {}
      },
      "source": [
        "compare_vals"
      ],
      "execution_count": null,
      "outputs": []
    }
  ]
}